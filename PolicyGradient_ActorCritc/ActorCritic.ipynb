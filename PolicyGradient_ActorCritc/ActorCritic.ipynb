{
 "cells": [
  {
   "cell_type": "code",
   "execution_count": 1,
   "metadata": {},
   "outputs": [],
   "source": [
    "import argparse\n",
    "import numpy as np\n",
    "import random\n",
    "import signal\n",
    "from MLUtils import get_MJPolicyGradient\n",
    "import Player, Game\n",
    "import MoveGenerator\n",
    "from test_cases import utils\n",
    "%load_ext autoreload\n",
    "%autoreload 2\n",
    "import MoveGenerator"
   ]
  },
  {
   "cell_type": "code",
   "execution_count": 2,
   "metadata": {},
   "outputs": [],
   "source": [
    "EXIT_FLAG = False\n",
    "names = [\"Amy\", \"Billy\", \"Clark\", \"David\"]\n",
    "freq_shuffle_players = 8\n",
    "freq_model_save = None\n",
    "game_record_size = 100\n",
    "game_record_count = 0\n",
    "\n",
    "game_record = np.zeros((game_record_size, 4,2))\n",
    "pg_model_dir = \"/home/ubuntu/telebot/test2\"\n",
    "trainer_models = {\n",
    "    \"heuristics\": {\n",
    "        \"class\": MoveGenerator.RuleBasedAINaive,\n",
    "        \"parameters\":{\n",
    "             \"display_step\": False,\n",
    "             \"s_chow\": 2,\n",
    "             \"s_pong\": 6,\n",
    "             \"s_future\": 1,\n",
    "             \"s_explore\": 0,\n",
    "             \"s_neighbor_suit\": 0,\n",
    "             \"s_mixed_suit\": 0\n",
    "        }\n",
    "    },\n",
    "    \"policy_gradient\": {\n",
    "        \"class\": MoveGenerator.PGGenerator,\n",
    "        \"parameters\":{\n",
    "            \"display_step\": False,\n",
    "            \"pg_model_path\": pg_model_dir,\n",
    "            \"is_train\": False,\n",
    "            \"skip_history\": False\n",
    "        }\n",
    "    },\n",
    "    \"random\": {\n",
    "        \"class\": MoveGenerator.RandomGenerator,\n",
    "        \"parameters\":{\n",
    "            \"display_step\": False\n",
    "        }\n",
    "    }\n",
    "}"
   ]
  },
  {
   "cell_type": "code",
   "execution_count": 13,
   "metadata": {},
   "outputs": [],
   "source": [
    "pg_model_paras = {\n",
    "\t\"is_deep\": True,\n",
    "\t\"learning_rate\": 1e-3,\n",
    "\t\"reward_decay\": 0.99\n",
    "}\n",
    "model_dir = pg_model_dir\n",
    "action = \"train\""
   ]
  },
  {
   "cell_type": "code",
   "execution_count": 14,
   "metadata": {},
   "outputs": [
    {
     "name": "stdout",
     "output_type": "stream",
     "text": [
      "Load Model\n",
      "pass reading\n",
      "New Network\n",
      "finished building graph\n"
     ]
    }
   ],
   "source": [
    "players = []\n",
    "for i in range(3):\n",
    "    player = Player.Player(MoveGenerator.RandomGenerator, player_name=names[i],**trainer_models[\"random\"][\"parameters\"])\n",
    "    players.append(player)                                                                                                            \n",
    "'''\n",
    "model = get_MJPolicyGradient(model_dir, **pg_model_paras)    \n",
    "pg_player = Player.Player(MoveGenerator.PGGenerator, player_name = names[3], pg_model_path = model_dir, skip_history = False, is_train = action == \"train\", display_step = action == \"play\")\n",
    "'''\n",
    "ac_player = Player.Player(MoveGenerator.ACGenerator,player_name = names[3], pg_model_path = model_dir, skip_history = False, is_train = action == \"train\", display_step = False)\n",
    "players.append(ac_player)\n",
    "\n",
    "Actor = ac_player.move_generator.actor\n",
    "Critic = ac_player.move_generator.critic\n",
    "\n",
    "#player = Player.Player(MoveGenerator.Human,player_name=names[3])\n",
    "#players.append(player)"
   ]
  },
  {
   "cell_type": "code",
   "execution_count": 15,
   "metadata": {},
   "outputs": [
    {
     "data": {
      "text/plain": [
       "[Amy, Billy, Clark, David]"
      ]
     },
     "execution_count": 15,
     "metadata": {},
     "output_type": "execute_result"
    }
   ],
   "source": [
    "players"
   ]
  },
  {
   "cell_type": "code",
   "execution_count": 16,
   "metadata": {},
   "outputs": [
    {
     "name": "stdout",
     "output_type": "stream",
     "text": [
      "#   1: -0.0004\n"
     ]
    }
   ],
   "source": [
    "game = Game.Game(players)\n",
    "winner, losers, penalty = game.start_game()"
   ]
  },
  {
   "cell_type": "code",
   "execution_count": null,
   "metadata": {},
   "outputs": [
    {
     "name": "stdout",
     "output_type": "stream",
     "text": [
      "#53501: -533.4879\n",
      "#53601: -602.3874\n",
      "#53701: -747.3577\n",
      "#53801: -486.5856\n",
      "#53901: -330.5227\n",
      "#54001: -601.9611\n",
      "#54101: -498.5353\n",
      "#54201: -347.1270\n",
      "#54301: -475.6815\n",
      "#54401: -494.2560\n",
      "#54501: -454.1672\n",
      "#54601: -534.6209\n",
      "#54701: -487.4233\n",
      "#54801: -596.7993\n",
      "#54901: -485.6177\n",
      "#55001: -701.2950\n",
      "#55101: -590.0950\n",
      "#55201: -495.4988\n",
      "#55301: -520.1806\n",
      "#55401: -484.5252\n",
      "#55501: -530.5982\n",
      "#55601: -371.5301\n",
      "#55701: -599.5550\n",
      "#55801: -428.7865\n",
      "#55901: -331.1633\n",
      "#56001: -546.6498\n",
      "#56101: -638.3238\n",
      "#56201: -626.6634\n",
      "#56301: -561.3364\n",
      "#56401: -485.3254\n",
      "#56501: -627.4394\n",
      "#56601: -457.7669\n",
      "#56701: -611.3855\n",
      "#56801: -396.7280\n",
      "#56901: -413.0047\n",
      "#57001: -420.3610\n",
      "#57101: -657.9586\n",
      "#57201: -578.1605\n",
      "#57301: -650.1527\n",
      "#57401: -544.7770\n",
      "#57501: -458.9849\n",
      "#57601: -482.7122\n",
      "#57701: -522.9598\n",
      "#57801: -476.1774\n",
      "#57901: -516.4361\n",
      "#58001: -551.7875\n",
      "#58101: -590.3971\n",
      "#58201: -488.7531\n",
      "#58301: -529.8449\n",
      "#  100: 0.00%/1.00%\t1.00%/1.00%\t1.00%/0.00%\t0.00%/2.00%\n",
      "#58401: -647.4440\n",
      "#58501: -699.3079\n",
      "#58601: -445.5743\n",
      "#58701: -714.7811\n",
      "#58801: -703.2212\n",
      "#58901: -808.6283\n",
      "#59001: -564.6056\n",
      "#59101: -361.9283\n",
      "#59201: -576.3631\n",
      "#59301: -466.2658\n",
      "#59401: -538.6266\n",
      "#59501: -379.5172\n",
      "#59601: -607.8536\n",
      "#59701: -633.9976\n",
      "#59801: -488.7191\n",
      "#59901: -745.9758\n",
      "#60001: -439.3412\n",
      "#60101: -485.7859\n",
      "#60201: -589.4834\n",
      "#60301: -628.1225\n",
      "#60401: -635.1200\n",
      "#60501: -827.6558\n",
      "#60601: -544.6585\n",
      "#60701: -566.6297\n",
      "#60801: -576.6411\n",
      "#60901: -475.5405\n",
      "#61001: -435.3772\n",
      "#61101: -609.8995\n",
      "#61201: -489.7576\n",
      "#61301: -654.0030\n",
      "#61401: -623.3980\n",
      "#61501: -582.3451\n",
      "#61601: -809.5093\n",
      "#61701: -354.2880\n",
      "#61801: -543.9663\n",
      "#61901: -463.3588\n",
      "#62001: -554.0290\n",
      "#62101: -646.3795\n",
      "#62201: -355.7014\n",
      "#62301: -728.9834\n",
      "#62401: -625.6083\n",
      "#62501: -679.7015\n",
      "#62601: -477.5373\n",
      "#62701: -630.0988\n",
      "#62801: -518.1021\n",
      "#62901: -616.9858\n"
     ]
    }
   ],
   "source": [
    "for i in range(1000):\n",
    "    game = Game.Game(players)\n",
    "    winner, losers, penalty = game.start_game()\n",
    "    \n",
    "    #print(i)\n",
    "    index = game_record_count%game_record_size\n",
    "    game_record_count += 1\n",
    "    \n",
    "    game_record[index, :, 0] = 0\n",
    "    game_record[index, :, 1] = 0\n",
    "    \n",
    "    \n",
    "    \n",
    "    if winner is not None:\n",
    "        winner_id = players.index(winner)\n",
    "        game_record[index, winner_id, 0] = 1\n",
    "        game_record[index, winner_id, 1] = 0\n",
    "        for loser in losers:\n",
    "            loser_id = players.index(loser)\n",
    "            game_record[index, loser_id, 1] = 1\n",
    "            game_record[index, loser_id, 0] = 0\n",
    "    if (i+1) % game_record_size == 0:\n",
    "        print(\"#%5d: %.2f%%/%.2f%%\\t%.2f%%/%.2f%%\\t%.2f%%/%.2f%%\\t%.2f%%/%.2f%%\"%(i+1, game_record[:, 0, 0].mean()* 100, game_record[:, 0, 1].mean()* 100,\n",
    "                                                                                            game_record[:, 1, 0].mean()* 100, game_record[:, 1, 1].mean()* 100, \n",
    "                                                                                            game_record[:, 2, 0].mean()* 100, game_record[:, 2, 1].mean()* 100, \n",
    "                                                                                            game_record[:, 3, 0].mean()* 100, game_record[:, 3, 1].mean()* 100))"
   ]
  },
  {
   "cell_type": "code",
   "execution_count": null,
   "metadata": {},
   "outputs": [],
   "source": []
  }
 ],
 "metadata": {
  "kernelspec": {
   "display_name": "Python [conda env:telebot]",
   "language": "python",
   "name": "conda-env-telebot-py"
  },
  "language_info": {
   "codemirror_mode": {
    "name": "ipython",
    "version": 3
   },
   "file_extension": ".py",
   "mimetype": "text/x-python",
   "name": "python",
   "nbconvert_exporter": "python",
   "pygments_lexer": "ipython3",
   "version": "3.6.8"
  }
 },
 "nbformat": 4,
 "nbformat_minor": 2
}
